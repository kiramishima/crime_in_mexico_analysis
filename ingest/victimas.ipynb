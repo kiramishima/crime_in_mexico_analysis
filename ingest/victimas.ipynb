{
 "cells": [
  {
   "cell_type": "code",
   "execution_count": 39,
   "metadata": {},
   "outputs": [],
   "source": [
    "import pandas as pd\n",
    "from datetime import datetime\n"
   ]
  },
  {
   "cell_type": "code",
   "execution_count": 2,
   "metadata": {},
   "outputs": [],
   "source": [
    "# Read CSV from Datos Abiertos\n",
    "df = pd.read_csv(\"https://archivo.datos.cdmx.gob.mx/FGJ/victimas/victimasFGJ_2024.csv\")"
   ]
  },
  {
   "cell_type": "code",
   "execution_count": 3,
   "metadata": {},
   "outputs": [
    {
     "data": {
      "text/plain": [
       "(19732, 22)"
      ]
     },
     "execution_count": 3,
     "metadata": {},
     "output_type": "execute_result"
    }
   ],
   "source": [
    "# Check shape\n",
    "df.shape"
   ]
  },
  {
   "cell_type": "code",
   "execution_count": 47,
   "metadata": {},
   "outputs": [
    {
     "name": "stdout",
     "output_type": "stream",
     "text": [
      "<class 'pandas.core.frame.DataFrame'>\n",
      "RangeIndex: 19732 entries, 0 to 19731\n",
      "Data columns (total 24 columns):\n",
      " #   Column             Non-Null Count  Dtype         \n",
      "---  ------             --------------  -----         \n",
      " 0   anio_inicio        19732 non-null  int64         \n",
      " 1   mes_inicio         19732 non-null  object        \n",
      " 2   fecha_inicio       19732 non-null  object        \n",
      " 3   hora_inicio        19732 non-null  object        \n",
      " 4   anio_hecho         19732 non-null  int64         \n",
      " 5   mes_hecho          19732 non-null  object        \n",
      " 6   fecha_hecho        19732 non-null  object        \n",
      " 7   hora_hecho         19732 non-null  object        \n",
      " 8   delito             19732 non-null  object        \n",
      " 9   categoria_delito   19732 non-null  object        \n",
      " 10  sexo               19732 non-null  object        \n",
      " 11  edad               13732 non-null  float64       \n",
      " 12  tipo_persona       19685 non-null  object        \n",
      " 13  calidad_juridica   19732 non-null  object        \n",
      " 14  competencia        19732 non-null  object        \n",
      " 15  colonia_hecho      18343 non-null  object        \n",
      " 16  colonia_catalogo   18103 non-null  object        \n",
      " 17  alcaldia_hecho     19616 non-null  object        \n",
      " 18  alcaldia_catalogo  19376 non-null  object        \n",
      " 19  municipio_hecho    19616 non-null  object        \n",
      " 20  latitud            18345 non-null  float64       \n",
      " 21  longitud           18345 non-null  float64       \n",
      " 22  dt_inicio          19732 non-null  datetime64[ns]\n",
      " 23  dt_hecho           19732 non-null  datetime64[ns]\n",
      "dtypes: datetime64[ns](2), float64(3), int64(2), object(17)\n",
      "memory usage: 3.6+ MB\n"
     ]
    }
   ],
   "source": [
    "# General info\n",
    "df.info()"
   ]
  },
  {
   "cell_type": "code",
   "execution_count": 5,
   "metadata": {},
   "outputs": [
    {
     "data": {
      "text/plain": [
       "Index(['anio_inicio', 'mes_inicio', 'fecha_inicio', 'hora_inicio',\n",
       "       'anio_hecho', 'mes_hecho', 'fecha_hecho', 'hora_hecho', 'delito',\n",
       "       'categoria_delito', 'sexo', 'edad', 'tipo_persona', 'calidad_juridica',\n",
       "       'competencia', 'colonia_hecho', 'colonia_catalogo', 'alcaldia_hecho',\n",
       "       'alcaldia_catalogo', 'municipio_hecho', 'latitud', 'longitud'],\n",
       "      dtype='object')"
      ]
     },
     "execution_count": 5,
     "metadata": {},
     "output_type": "execute_result"
    }
   ],
   "source": [
    "# List columns\n",
    "df.columns"
   ]
  },
  {
   "cell_type": "code",
   "execution_count": 6,
   "metadata": {},
   "outputs": [
    {
     "data": {
      "text/html": [
       "<div>\n",
       "<style scoped>\n",
       "    .dataframe tbody tr th:only-of-type {\n",
       "        vertical-align: middle;\n",
       "    }\n",
       "\n",
       "    .dataframe tbody tr th {\n",
       "        vertical-align: top;\n",
       "    }\n",
       "\n",
       "    .dataframe thead th {\n",
       "        text-align: right;\n",
       "    }\n",
       "</style>\n",
       "<table border=\"1\" class=\"dataframe\">\n",
       "  <thead>\n",
       "    <tr style=\"text-align: right;\">\n",
       "      <th></th>\n",
       "      <th>anio_inicio</th>\n",
       "      <th>mes_inicio</th>\n",
       "      <th>fecha_inicio</th>\n",
       "      <th>hora_inicio</th>\n",
       "      <th>anio_hecho</th>\n",
       "      <th>mes_hecho</th>\n",
       "      <th>fecha_hecho</th>\n",
       "      <th>hora_hecho</th>\n",
       "      <th>delito</th>\n",
       "      <th>categoria_delito</th>\n",
       "      <th>...</th>\n",
       "      <th>tipo_persona</th>\n",
       "      <th>calidad_juridica</th>\n",
       "      <th>competencia</th>\n",
       "      <th>colonia_hecho</th>\n",
       "      <th>colonia_catalogo</th>\n",
       "      <th>alcaldia_hecho</th>\n",
       "      <th>alcaldia_catalogo</th>\n",
       "      <th>municipio_hecho</th>\n",
       "      <th>latitud</th>\n",
       "      <th>longitud</th>\n",
       "    </tr>\n",
       "  </thead>\n",
       "  <tbody>\n",
       "    <tr>\n",
       "      <th>19655</th>\n",
       "      <td>2024</td>\n",
       "      <td>Enero</td>\n",
       "      <td>2024-01-31</td>\n",
       "      <td>22:11:00</td>\n",
       "      <td>2024</td>\n",
       "      <td>Enero</td>\n",
       "      <td>2024-01-31</td>\n",
       "      <td>19:20:00</td>\n",
       "      <td>TENTATIVA DE EXTORSION</td>\n",
       "      <td>DELITO DE BAJO IMPACTO</td>\n",
       "      <td>...</td>\n",
       "      <td>FISICA</td>\n",
       "      <td>DENUNCIANTE Y VICTIMA</td>\n",
       "      <td>FUERO COMUN</td>\n",
       "      <td>CENTRAL DE ABASTO</td>\n",
       "      <td>Central De Abasto</td>\n",
       "      <td>IZTAPALAPA</td>\n",
       "      <td>Iztapalapa</td>\n",
       "      <td>CDMX</td>\n",
       "      <td>19.369687</td>\n",
       "      <td>-99.090112</td>\n",
       "    </tr>\n",
       "    <tr>\n",
       "      <th>15656</th>\n",
       "      <td>2024</td>\n",
       "      <td>Enero</td>\n",
       "      <td>2024-01-25</td>\n",
       "      <td>21:57:00</td>\n",
       "      <td>2024</td>\n",
       "      <td>Enero</td>\n",
       "      <td>2024-01-25</td>\n",
       "      <td>20:35:00</td>\n",
       "      <td>NARCOMENUDEO POSESIÓN CON FINES DE VENTA, COME...</td>\n",
       "      <td>DELITO DE BAJO IMPACTO</td>\n",
       "      <td>...</td>\n",
       "      <td>MORAL</td>\n",
       "      <td>OFENDIDO</td>\n",
       "      <td>FUERO COMUN</td>\n",
       "      <td>GUERRERO</td>\n",
       "      <td>Guerrero</td>\n",
       "      <td>CUAUHTEMOC</td>\n",
       "      <td>Cuauhtémoc</td>\n",
       "      <td>CDMX</td>\n",
       "      <td>19.442431</td>\n",
       "      <td>-99.145749</td>\n",
       "    </tr>\n",
       "    <tr>\n",
       "      <th>8928</th>\n",
       "      <td>2024</td>\n",
       "      <td>Enero</td>\n",
       "      <td>2024-01-16</td>\n",
       "      <td>01:59:00</td>\n",
       "      <td>2023</td>\n",
       "      <td>Noviembre</td>\n",
       "      <td>2023-11-29</td>\n",
       "      <td>12:40:00</td>\n",
       "      <td>LA ADMINISTRACION DE JUSTICIA</td>\n",
       "      <td>DELITO DE BAJO IMPACTO</td>\n",
       "      <td>...</td>\n",
       "      <td>MORAL</td>\n",
       "      <td>OFENDIDO</td>\n",
       "      <td>INCOMPETENCIA</td>\n",
       "      <td>NaN</td>\n",
       "      <td>NaN</td>\n",
       "      <td>FUERA DE CDMX</td>\n",
       "      <td>Fuera de CDMX</td>\n",
       "      <td>CUAUTLA</td>\n",
       "      <td>NaN</td>\n",
       "      <td>NaN</td>\n",
       "    </tr>\n",
       "    <tr>\n",
       "      <th>3252</th>\n",
       "      <td>2024</td>\n",
       "      <td>Enero</td>\n",
       "      <td>2024-01-06</td>\n",
       "      <td>23:38:00</td>\n",
       "      <td>2023</td>\n",
       "      <td>Septiembre</td>\n",
       "      <td>2023-09-10</td>\n",
       "      <td>09:00:00</td>\n",
       "      <td>DESPOJO</td>\n",
       "      <td>DELITO DE BAJO IMPACTO</td>\n",
       "      <td>...</td>\n",
       "      <td>FISICA</td>\n",
       "      <td>DENUNCIANTE Y VICTIMA</td>\n",
       "      <td>FUERO COMUN</td>\n",
       "      <td>GENERAL IGNACIO ZARAGOZA</td>\n",
       "      <td>General Ignacio Zaragoza</td>\n",
       "      <td>VENUSTIANO CARRANZA</td>\n",
       "      <td>Venustiano Carranza</td>\n",
       "      <td>CDMX</td>\n",
       "      <td>19.411798</td>\n",
       "      <td>-99.094974</td>\n",
       "    </tr>\n",
       "    <tr>\n",
       "      <th>8840</th>\n",
       "      <td>2024</td>\n",
       "      <td>Enero</td>\n",
       "      <td>2024-01-15</td>\n",
       "      <td>22:42:00</td>\n",
       "      <td>2024</td>\n",
       "      <td>Enero</td>\n",
       "      <td>2024-01-15</td>\n",
       "      <td>21:20:00</td>\n",
       "      <td>ROBO A NEGOCIO SIN VIOLENCIA POR FARDEROS (TIE...</td>\n",
       "      <td>DELITO DE BAJO IMPACTO</td>\n",
       "      <td>...</td>\n",
       "      <td>MORAL</td>\n",
       "      <td>OFENDIDO</td>\n",
       "      <td>FUERO COMUN</td>\n",
       "      <td>JARDÍN BALBUENA</td>\n",
       "      <td>Jardin Balbuena</td>\n",
       "      <td>VENUSTIANO CARRANZA</td>\n",
       "      <td>Venustiano Carranza</td>\n",
       "      <td>CDMX</td>\n",
       "      <td>19.418087</td>\n",
       "      <td>-99.105730</td>\n",
       "    </tr>\n",
       "    <tr>\n",
       "      <th>19115</th>\n",
       "      <td>2024</td>\n",
       "      <td>Enero</td>\n",
       "      <td>2024-01-31</td>\n",
       "      <td>11:04:00</td>\n",
       "      <td>2024</td>\n",
       "      <td>Enero</td>\n",
       "      <td>2024-01-25</td>\n",
       "      <td>23:16:00</td>\n",
       "      <td>DAÑO EN PROPIEDAD AJENA INTENCIONAL A AUTOMOVIL</td>\n",
       "      <td>DELITO DE BAJO IMPACTO</td>\n",
       "      <td>...</td>\n",
       "      <td>FISICA</td>\n",
       "      <td>DENUNCIANTE Y VICTIMA</td>\n",
       "      <td>FUERO COMUN</td>\n",
       "      <td>DEL VALLE CENTRO</td>\n",
       "      <td>Del Valle Centro</td>\n",
       "      <td>BENITO JUAREZ</td>\n",
       "      <td>Benito Juárez</td>\n",
       "      <td>CDMX</td>\n",
       "      <td>19.383046</td>\n",
       "      <td>-99.166561</td>\n",
       "    </tr>\n",
       "    <tr>\n",
       "      <th>12230</th>\n",
       "      <td>2024</td>\n",
       "      <td>Enero</td>\n",
       "      <td>2024-01-20</td>\n",
       "      <td>18:53:00</td>\n",
       "      <td>2024</td>\n",
       "      <td>Enero</td>\n",
       "      <td>2024-01-20</td>\n",
       "      <td>01:03:00</td>\n",
       "      <td>ROBO DE MOTOCICLETA SIN VIOLENCIA</td>\n",
       "      <td>ROBO DE VEHÍCULO CON Y SIN VIOLENCIA</td>\n",
       "      <td>...</td>\n",
       "      <td>FISICA</td>\n",
       "      <td>DENUNCIANTE Y VICTIMA</td>\n",
       "      <td>FUERO COMUN</td>\n",
       "      <td>5O TRAMO 20 DE NOVIEMBRE</td>\n",
       "      <td>5to Tramo 20 De Noviembre</td>\n",
       "      <td>VENUSTIANO CARRANZA</td>\n",
       "      <td>Venustiano Carranza</td>\n",
       "      <td>CDMX</td>\n",
       "      <td>19.450788</td>\n",
       "      <td>-99.105830</td>\n",
       "    </tr>\n",
       "  </tbody>\n",
       "</table>\n",
       "<p>7 rows × 22 columns</p>\n",
       "</div>"
      ],
      "text/plain": [
       "       anio_inicio mes_inicio fecha_inicio hora_inicio  anio_hecho  \\\n",
       "19655         2024      Enero   2024-01-31    22:11:00        2024   \n",
       "15656         2024      Enero   2024-01-25    21:57:00        2024   \n",
       "8928          2024      Enero   2024-01-16    01:59:00        2023   \n",
       "3252          2024      Enero   2024-01-06    23:38:00        2023   \n",
       "8840          2024      Enero   2024-01-15    22:42:00        2024   \n",
       "19115         2024      Enero   2024-01-31    11:04:00        2024   \n",
       "12230         2024      Enero   2024-01-20    18:53:00        2024   \n",
       "\n",
       "        mes_hecho fecha_hecho hora_hecho  \\\n",
       "19655       Enero  2024-01-31   19:20:00   \n",
       "15656       Enero  2024-01-25   20:35:00   \n",
       "8928    Noviembre  2023-11-29   12:40:00   \n",
       "3252   Septiembre  2023-09-10   09:00:00   \n",
       "8840        Enero  2024-01-15   21:20:00   \n",
       "19115       Enero  2024-01-25   23:16:00   \n",
       "12230       Enero  2024-01-20   01:03:00   \n",
       "\n",
       "                                                  delito  \\\n",
       "19655                             TENTATIVA DE EXTORSION   \n",
       "15656  NARCOMENUDEO POSESIÓN CON FINES DE VENTA, COME...   \n",
       "8928                       LA ADMINISTRACION DE JUSTICIA   \n",
       "3252                                             DESPOJO   \n",
       "8840   ROBO A NEGOCIO SIN VIOLENCIA POR FARDEROS (TIE...   \n",
       "19115    DAÑO EN PROPIEDAD AJENA INTENCIONAL A AUTOMOVIL   \n",
       "12230                  ROBO DE MOTOCICLETA SIN VIOLENCIA   \n",
       "\n",
       "                           categoria_delito  ... tipo_persona  \\\n",
       "19655                DELITO DE BAJO IMPACTO  ...       FISICA   \n",
       "15656                DELITO DE BAJO IMPACTO  ...        MORAL   \n",
       "8928                 DELITO DE BAJO IMPACTO  ...        MORAL   \n",
       "3252                 DELITO DE BAJO IMPACTO  ...       FISICA   \n",
       "8840                 DELITO DE BAJO IMPACTO  ...        MORAL   \n",
       "19115                DELITO DE BAJO IMPACTO  ...       FISICA   \n",
       "12230  ROBO DE VEHÍCULO CON Y SIN VIOLENCIA  ...       FISICA   \n",
       "\n",
       "            calidad_juridica    competencia             colonia_hecho  \\\n",
       "19655  DENUNCIANTE Y VICTIMA    FUERO COMUN         CENTRAL DE ABASTO   \n",
       "15656               OFENDIDO    FUERO COMUN                  GUERRERO   \n",
       "8928                OFENDIDO  INCOMPETENCIA                       NaN   \n",
       "3252   DENUNCIANTE Y VICTIMA    FUERO COMUN  GENERAL IGNACIO ZARAGOZA   \n",
       "8840                OFENDIDO    FUERO COMUN           JARDÍN BALBUENA   \n",
       "19115  DENUNCIANTE Y VICTIMA    FUERO COMUN          DEL VALLE CENTRO   \n",
       "12230  DENUNCIANTE Y VICTIMA    FUERO COMUN  5O TRAMO 20 DE NOVIEMBRE   \n",
       "\n",
       "                colonia_catalogo       alcaldia_hecho    alcaldia_catalogo  \\\n",
       "19655          Central De Abasto           IZTAPALAPA           Iztapalapa   \n",
       "15656                   Guerrero           CUAUHTEMOC           Cuauhtémoc   \n",
       "8928                         NaN        FUERA DE CDMX        Fuera de CDMX   \n",
       "3252    General Ignacio Zaragoza  VENUSTIANO CARRANZA  Venustiano Carranza   \n",
       "8840             Jardin Balbuena  VENUSTIANO CARRANZA  Venustiano Carranza   \n",
       "19115           Del Valle Centro        BENITO JUAREZ        Benito Juárez   \n",
       "12230  5to Tramo 20 De Noviembre  VENUSTIANO CARRANZA  Venustiano Carranza   \n",
       "\n",
       "      municipio_hecho    latitud   longitud  \n",
       "19655            CDMX  19.369687 -99.090112  \n",
       "15656            CDMX  19.442431 -99.145749  \n",
       "8928          CUAUTLA        NaN        NaN  \n",
       "3252             CDMX  19.411798 -99.094974  \n",
       "8840             CDMX  19.418087 -99.105730  \n",
       "19115            CDMX  19.383046 -99.166561  \n",
       "12230            CDMX  19.450788 -99.105830  \n",
       "\n",
       "[7 rows x 22 columns]"
      ]
     },
     "execution_count": 6,
     "metadata": {},
     "output_type": "execute_result"
    }
   ],
   "source": [
    "# Sampling\n",
    "df.sample(7)"
   ]
  },
  {
   "cell_type": "code",
   "execution_count": 15,
   "metadata": {},
   "outputs": [
    {
     "data": {
      "text/html": [
       "<div>\n",
       "<style scoped>\n",
       "    .dataframe tbody tr th:only-of-type {\n",
       "        vertical-align: middle;\n",
       "    }\n",
       "\n",
       "    .dataframe tbody tr th {\n",
       "        vertical-align: top;\n",
       "    }\n",
       "\n",
       "    .dataframe thead th {\n",
       "        text-align: right;\n",
       "    }\n",
       "</style>\n",
       "<table border=\"1\" class=\"dataframe\">\n",
       "  <thead>\n",
       "    <tr style=\"text-align: right;\">\n",
       "      <th></th>\n",
       "      <th>anio_inicio</th>\n",
       "      <th>mes_inicio</th>\n",
       "      <th>fecha_inicio</th>\n",
       "      <th>hora_inicio</th>\n",
       "      <th>anio_hecho</th>\n",
       "      <th>mes_hecho</th>\n",
       "      <th>fecha_hecho</th>\n",
       "      <th>hora_hecho</th>\n",
       "    </tr>\n",
       "  </thead>\n",
       "  <tbody>\n",
       "    <tr>\n",
       "      <th>0</th>\n",
       "      <td>2024</td>\n",
       "      <td>Enero</td>\n",
       "      <td>2024-01-01</td>\n",
       "      <td>00:20:00</td>\n",
       "      <td>2024</td>\n",
       "      <td>Enero</td>\n",
       "      <td>2024-01-01</td>\n",
       "      <td>00:20:00</td>\n",
       "    </tr>\n",
       "    <tr>\n",
       "      <th>1</th>\n",
       "      <td>2024</td>\n",
       "      <td>Enero</td>\n",
       "      <td>2024-01-01</td>\n",
       "      <td>00:38:00</td>\n",
       "      <td>2023</td>\n",
       "      <td>Diciembre</td>\n",
       "      <td>2023-12-31</td>\n",
       "      <td>23:09:00</td>\n",
       "    </tr>\n",
       "    <tr>\n",
       "      <th>2</th>\n",
       "      <td>2024</td>\n",
       "      <td>Enero</td>\n",
       "      <td>2024-01-01</td>\n",
       "      <td>01:02:00</td>\n",
       "      <td>2023</td>\n",
       "      <td>Diciembre</td>\n",
       "      <td>2023-12-31</td>\n",
       "      <td>17:50:00</td>\n",
       "    </tr>\n",
       "    <tr>\n",
       "      <th>3</th>\n",
       "      <td>2024</td>\n",
       "      <td>Enero</td>\n",
       "      <td>2024-01-01</td>\n",
       "      <td>01:12:00</td>\n",
       "      <td>2023</td>\n",
       "      <td>Diciembre</td>\n",
       "      <td>2023-12-28</td>\n",
       "      <td>21:45:00</td>\n",
       "    </tr>\n",
       "    <tr>\n",
       "      <th>4</th>\n",
       "      <td>2024</td>\n",
       "      <td>Enero</td>\n",
       "      <td>2024-01-01</td>\n",
       "      <td>01:14:00</td>\n",
       "      <td>2023</td>\n",
       "      <td>Diciembre</td>\n",
       "      <td>2023-12-31</td>\n",
       "      <td>23:00:00</td>\n",
       "    </tr>\n",
       "  </tbody>\n",
       "</table>\n",
       "</div>"
      ],
      "text/plain": [
       "   anio_inicio mes_inicio fecha_inicio hora_inicio  anio_hecho  mes_hecho  \\\n",
       "0         2024      Enero   2024-01-01    00:20:00        2024      Enero   \n",
       "1         2024      Enero   2024-01-01    00:38:00        2023  Diciembre   \n",
       "2         2024      Enero   2024-01-01    01:02:00        2023  Diciembre   \n",
       "3         2024      Enero   2024-01-01    01:12:00        2023  Diciembre   \n",
       "4         2024      Enero   2024-01-01    01:14:00        2023  Diciembre   \n",
       "\n",
       "  fecha_hecho hora_hecho  \n",
       "0  2024-01-01   00:20:00  \n",
       "1  2023-12-31   23:09:00  \n",
       "2  2023-12-31   17:50:00  \n",
       "3  2023-12-28   21:45:00  \n",
       "4  2023-12-31   23:00:00  "
      ]
     },
     "execution_count": 15,
     "metadata": {},
     "output_type": "execute_result"
    }
   ],
   "source": [
    "# Select only: anio_inicio, mes_inicio, fecha_inicio, hora_inicio , anio_hecho, mes_hecho fecha_hecho hora_hecho\n",
    "df[['anio_inicio', 'mes_inicio', 'fecha_inicio', 'hora_inicio', 'anio_hecho', 'mes_hecho', 'fecha_hecho', 'hora_hecho']].head()"
   ]
  },
  {
   "cell_type": "markdown",
   "metadata": {},
   "source": [
    "> Ok, we can join fecha_inicio + hora inicio and create datetime, also fecha_hecho + hora_hecho"
   ]
  },
  {
   "cell_type": "code",
   "execution_count": 18,
   "metadata": {},
   "outputs": [
    {
     "data": {
      "text/html": [
       "<div>\n",
       "<style scoped>\n",
       "    .dataframe tbody tr th:only-of-type {\n",
       "        vertical-align: middle;\n",
       "    }\n",
       "\n",
       "    .dataframe tbody tr th {\n",
       "        vertical-align: top;\n",
       "    }\n",
       "\n",
       "    .dataframe thead th {\n",
       "        text-align: right;\n",
       "    }\n",
       "</style>\n",
       "<table border=\"1\" class=\"dataframe\">\n",
       "  <thead>\n",
       "    <tr style=\"text-align: right;\">\n",
       "      <th></th>\n",
       "      <th>fecha_inicio</th>\n",
       "      <th>hora_inicio</th>\n",
       "    </tr>\n",
       "  </thead>\n",
       "  <tbody>\n",
       "    <tr>\n",
       "      <th>0</th>\n",
       "      <td>2024-01-01</td>\n",
       "      <td>00:20:00</td>\n",
       "    </tr>\n",
       "    <tr>\n",
       "      <th>1</th>\n",
       "      <td>2024-01-01</td>\n",
       "      <td>00:38:00</td>\n",
       "    </tr>\n",
       "    <tr>\n",
       "      <th>2</th>\n",
       "      <td>2024-01-01</td>\n",
       "      <td>01:02:00</td>\n",
       "    </tr>\n",
       "    <tr>\n",
       "      <th>3</th>\n",
       "      <td>2024-01-01</td>\n",
       "      <td>01:12:00</td>\n",
       "    </tr>\n",
       "    <tr>\n",
       "      <th>4</th>\n",
       "      <td>2024-01-01</td>\n",
       "      <td>01:14:00</td>\n",
       "    </tr>\n",
       "    <tr>\n",
       "      <th>...</th>\n",
       "      <td>...</td>\n",
       "      <td>...</td>\n",
       "    </tr>\n",
       "    <tr>\n",
       "      <th>19727</th>\n",
       "      <td>2024-01-31</td>\n",
       "      <td>23:54:00</td>\n",
       "    </tr>\n",
       "    <tr>\n",
       "      <th>19728</th>\n",
       "      <td>2024-01-31</td>\n",
       "      <td>23:56:00</td>\n",
       "    </tr>\n",
       "    <tr>\n",
       "      <th>19729</th>\n",
       "      <td>2024-01-31</td>\n",
       "      <td>23:56:00</td>\n",
       "    </tr>\n",
       "    <tr>\n",
       "      <th>19730</th>\n",
       "      <td>2024-01-31</td>\n",
       "      <td>23:58:00</td>\n",
       "    </tr>\n",
       "    <tr>\n",
       "      <th>19731</th>\n",
       "      <td>2024-01-31</td>\n",
       "      <td>23:59:00</td>\n",
       "    </tr>\n",
       "  </tbody>\n",
       "</table>\n",
       "<p>19732 rows × 2 columns</p>\n",
       "</div>"
      ],
      "text/plain": [
       "      fecha_inicio hora_inicio\n",
       "0       2024-01-01    00:20:00\n",
       "1       2024-01-01    00:38:00\n",
       "2       2024-01-01    01:02:00\n",
       "3       2024-01-01    01:12:00\n",
       "4       2024-01-01    01:14:00\n",
       "...            ...         ...\n",
       "19727   2024-01-31    23:54:00\n",
       "19728   2024-01-31    23:56:00\n",
       "19729   2024-01-31    23:56:00\n",
       "19730   2024-01-31    23:58:00\n",
       "19731   2024-01-31    23:59:00\n",
       "\n",
       "[19732 rows x 2 columns]"
      ]
     },
     "execution_count": 18,
     "metadata": {},
     "output_type": "execute_result"
    }
   ],
   "source": [
    "df[(df.fecha_inicio.notnull()) & (df.hora_inicio.notnull())][['fecha_inicio', 'hora_inicio']]"
   ]
  },
  {
   "cell_type": "code",
   "execution_count": 41,
   "metadata": {},
   "outputs": [],
   "source": [
    "# Create datetime: dt_inicio\n",
    "df['dt_inicio'] = df[(df.fecha_inicio.notnull()) & (df.hora_inicio.notnull())][['fecha_inicio', 'hora_inicio']].apply(lambda row: datetime.strptime(f\"{row.fecha_inicio} {row.hora_inicio}\", \"%Y-%m-%d %H:%M:%S\"), axis=1)"
   ]
  },
  {
   "cell_type": "code",
   "execution_count": 42,
   "metadata": {},
   "outputs": [],
   "source": [
    "# Create datetime: dt_hecho\n",
    "df['dt_hecho'] = df[(df.fecha_hecho.notnull()) & (df.hora_hecho.notnull())][['fecha_hecho', 'hora_hecho']].apply(lambda row: datetime.strptime(f\"{row.fecha_hecho} {row.hora_hecho}\", \"%Y-%m-%d %H:%M:%S\"), axis=1)"
   ]
  },
  {
   "cell_type": "code",
   "execution_count": 43,
   "metadata": {},
   "outputs": [
    {
     "data": {
      "text/html": [
       "<div>\n",
       "<style scoped>\n",
       "    .dataframe tbody tr th:only-of-type {\n",
       "        vertical-align: middle;\n",
       "    }\n",
       "\n",
       "    .dataframe tbody tr th {\n",
       "        vertical-align: top;\n",
       "    }\n",
       "\n",
       "    .dataframe thead th {\n",
       "        text-align: right;\n",
       "    }\n",
       "</style>\n",
       "<table border=\"1\" class=\"dataframe\">\n",
       "  <thead>\n",
       "    <tr style=\"text-align: right;\">\n",
       "      <th></th>\n",
       "      <th>dt_inicio</th>\n",
       "      <th>dt_hecho</th>\n",
       "    </tr>\n",
       "  </thead>\n",
       "  <tbody>\n",
       "    <tr>\n",
       "      <th>0</th>\n",
       "      <td>2024-01-01 00:20:00</td>\n",
       "      <td>2024-01-01 00:20:00</td>\n",
       "    </tr>\n",
       "    <tr>\n",
       "      <th>1</th>\n",
       "      <td>2024-01-01 00:38:00</td>\n",
       "      <td>2023-12-31 23:09:00</td>\n",
       "    </tr>\n",
       "    <tr>\n",
       "      <th>2</th>\n",
       "      <td>2024-01-01 01:02:00</td>\n",
       "      <td>2023-12-31 17:50:00</td>\n",
       "    </tr>\n",
       "    <tr>\n",
       "      <th>3</th>\n",
       "      <td>2024-01-01 01:12:00</td>\n",
       "      <td>2023-12-28 21:45:00</td>\n",
       "    </tr>\n",
       "    <tr>\n",
       "      <th>4</th>\n",
       "      <td>2024-01-01 01:14:00</td>\n",
       "      <td>2023-12-31 23:00:00</td>\n",
       "    </tr>\n",
       "  </tbody>\n",
       "</table>\n",
       "</div>"
      ],
      "text/plain": [
       "            dt_inicio            dt_hecho\n",
       "0 2024-01-01 00:20:00 2024-01-01 00:20:00\n",
       "1 2024-01-01 00:38:00 2023-12-31 23:09:00\n",
       "2 2024-01-01 01:02:00 2023-12-31 17:50:00\n",
       "3 2024-01-01 01:12:00 2023-12-28 21:45:00\n",
       "4 2024-01-01 01:14:00 2023-12-31 23:00:00"
      ]
     },
     "execution_count": 43,
     "metadata": {},
     "output_type": "execute_result"
    }
   ],
   "source": [
    "df[['dt_inicio', 'dt_hecho']].head()"
   ]
  },
  {
   "cell_type": "code",
   "execution_count": 44,
   "metadata": {},
   "outputs": [
    {
     "data": {
      "text/plain": [
       "array(['Masculino', 'Femenino', nan], dtype=object)"
      ]
     },
     "execution_count": 44,
     "metadata": {},
     "output_type": "execute_result"
    }
   ],
   "source": [
    "# check sexo varible\n",
    "\n",
    "df['sexo'].unique()"
   ]
  },
  {
   "cell_type": "code",
   "execution_count": 45,
   "metadata": {},
   "outputs": [
    {
     "name": "stderr",
     "output_type": "stream",
     "text": [
      "C:\\Users\\kiramishima\\AppData\\Local\\Temp\\ipykernel_34940\\115545931.py:2: FutureWarning: A value is trying to be set on a copy of a DataFrame or Series through chained assignment using an inplace method.\n",
      "The behavior will change in pandas 3.0. This inplace method will never work because the intermediate object on which we are setting values always behaves as a copy.\n",
      "\n",
      "For example, when doing 'df[col].method(value, inplace=True)', try using 'df.method({col: value}, inplace=True)' or df[col] = df[col].method(value) instead, to perform the operation inplace on the original object.\n",
      "\n",
      "\n",
      "  df['sexo'].fillna('No especifico', inplace=True)\n"
     ]
    }
   ],
   "source": [
    "# fill na with 'No especifico'\n",
    "df['sexo'].fillna('No especifico', inplace=True)"
   ]
  },
  {
   "cell_type": "code",
   "execution_count": 46,
   "metadata": {},
   "outputs": [
    {
     "data": {
      "text/plain": [
       "array(['Masculino', 'Femenino', 'No especifico'], dtype=object)"
      ]
     },
     "execution_count": 46,
     "metadata": {},
     "output_type": "execute_result"
    }
   ],
   "source": [
    "df['sexo'].unique()"
   ]
  },
  {
   "cell_type": "code",
   "execution_count": 48,
   "metadata": {},
   "outputs": [
    {
     "data": {
      "text/plain": [
       "array(['FISICA', 'MORAL', nan], dtype=object)"
      ]
     },
     "execution_count": 48,
     "metadata": {},
     "output_type": "execute_result"
    }
   ],
   "source": [
    "# check tipo_persona\n",
    "df['tipo_persona'].unique()"
   ]
  },
  {
   "cell_type": "code",
   "execution_count": 65,
   "metadata": {},
   "outputs": [
    {
     "data": {
      "text/plain": [
       "array([nan], dtype=object)"
      ]
     },
     "execution_count": 65,
     "metadata": {},
     "output_type": "execute_result"
    }
   ],
   "source": [
    "# check tipo_persona\n",
    "df[df['tipo_persona'].isna()]['tipo_persona'].unique()"
   ]
  },
  {
   "cell_type": "code",
   "execution_count": 64,
   "metadata": {},
   "outputs": [
    {
     "data": {
      "text/plain": [
       "array([nan])"
      ]
     },
     "execution_count": 64,
     "metadata": {},
     "output_type": "execute_result"
    }
   ],
   "source": [
    "# check tipo_persona\n",
    "df[df['edad'].isna()]['edad'].unique()"
   ]
  },
  {
   "cell_type": "code",
   "execution_count": 63,
   "metadata": {},
   "outputs": [
    {
     "data": {
      "text/plain": [
       "array([nan], dtype=object)"
      ]
     },
     "execution_count": 63,
     "metadata": {},
     "output_type": "execute_result"
    }
   ],
   "source": [
    "df[df['colonia_hecho'].isna()]['colonia_hecho'].unique()"
   ]
  },
  {
   "cell_type": "code",
   "execution_count": 53,
   "metadata": {},
   "outputs": [
    {
     "data": {
      "text/plain": [
       "array([nan], dtype=object)"
      ]
     },
     "execution_count": 53,
     "metadata": {},
     "output_type": "execute_result"
    }
   ],
   "source": [
    "df[df.colonia_catalogo.isna()]['colonia_catalogo'].unique()"
   ]
  },
  {
   "cell_type": "code",
   "execution_count": 62,
   "metadata": {},
   "outputs": [
    {
     "data": {
      "text/plain": [
       "array([nan], dtype=object)"
      ]
     },
     "execution_count": 62,
     "metadata": {},
     "output_type": "execute_result"
    }
   ],
   "source": [
    "df[df['alcaldia_hecho'].isna()]['alcaldia_hecho'].unique()"
   ]
  },
  {
   "cell_type": "code",
   "execution_count": 61,
   "metadata": {},
   "outputs": [
    {
     "data": {
      "text/plain": [
       "array([nan], dtype=object)"
      ]
     },
     "execution_count": 61,
     "metadata": {},
     "output_type": "execute_result"
    }
   ],
   "source": [
    "df[df['alcaldia_catalogo'].isna()]['alcaldia_catalogo'].unique()"
   ]
  },
  {
   "cell_type": "code",
   "execution_count": 60,
   "metadata": {},
   "outputs": [
    {
     "data": {
      "text/plain": [
       "array([nan], dtype=object)"
      ]
     },
     "execution_count": 60,
     "metadata": {},
     "output_type": "execute_result"
    }
   ],
   "source": [
    "df[df['alcaldia_catalogo'].isna()]['alcaldia_catalogo'].unique()"
   ]
  },
  {
   "cell_type": "code",
   "execution_count": 59,
   "metadata": {},
   "outputs": [
    {
     "data": {
      "text/plain": [
       "array([nan], dtype=object)"
      ]
     },
     "execution_count": 59,
     "metadata": {},
     "output_type": "execute_result"
    }
   ],
   "source": [
    "df[df['municipio_hecho'].isna()]['municipio_hecho'].unique()"
   ]
  },
  {
   "cell_type": "code",
   "execution_count": 66,
   "metadata": {},
   "outputs": [],
   "source": [
    "df.drop(columns=['anio_inicio', 'mes_inicio', 'fecha_inicio', 'hora_inicio', 'anio_hecho', 'mes_hecho', 'fecha_hecho', 'hora_hecho', 'latitud', 'longitud'], inplace=True)"
   ]
  },
  {
   "cell_type": "code",
   "execution_count": 77,
   "metadata": {},
   "outputs": [],
   "source": [
    "df['delito'].fillna('No especifico', inplace=True)\n",
    "df['categoria_delito'].fillna('No especifico', inplace=True)\n",
    "df['sexo'].fillna('No especifico', inplace=True)\n",
    "df['tipo_persona'].fillna('No especifico', inplace=True)\n",
    "df['calidad_juridica'].fillna('No especifico', inplace=True)\n",
    "df['competencia'].fillna('No especifico', inplace=True)\n",
    "df['colonia_hecho'].fillna('No especifico', inplace=True)\n",
    "df['colonia_catalogo'].fillna('No especifico', inplace=True)\n",
    "df['alcaldia_hecho'].fillna('No especifico', inplace=True)\n",
    "df['alcaldia_catalogo'].fillna('No especifico', inplace=True)\n",
    "df['municipio_hecho'].fillna('No especifico', inplace=True)"
   ]
  },
  {
   "cell_type": "code",
   "execution_count": 78,
   "metadata": {},
   "outputs": [
    {
     "name": "stdout",
     "output_type": "stream",
     "text": [
      "<class 'pandas.core.frame.DataFrame'>\n",
      "RangeIndex: 19732 entries, 0 to 19731\n",
      "Data columns (total 16 columns):\n",
      " #   Column             Non-Null Count  Dtype         \n",
      "---  ------             --------------  -----         \n",
      " 0   delito             19732 non-null  object        \n",
      " 1   categoria_delito   19732 non-null  object        \n",
      " 2   sexo               19732 non-null  object        \n",
      " 3   edad               13732 non-null  float64       \n",
      " 4   tipo_persona       19732 non-null  object        \n",
      " 5   calidad_juridica   19732 non-null  object        \n",
      " 6   competencia        19732 non-null  object        \n",
      " 7   colonia_hecho      19732 non-null  object        \n",
      " 8   colonia_catalogo   19732 non-null  object        \n",
      " 9   alcaldia_hecho     19732 non-null  object        \n",
      " 10  alcaldia_catalogo  19732 non-null  object        \n",
      " 11  municipio_hecho    19732 non-null  object        \n",
      " 12  latitud            18345 non-null  float64       \n",
      " 13  longitud           18345 non-null  float64       \n",
      " 14  dt_inicio          19732 non-null  datetime64[ns]\n",
      " 15  dt_hecho           19732 non-null  datetime64[ns]\n",
      "dtypes: datetime64[ns](2), float64(3), object(11)\n",
      "memory usage: 2.4+ MB\n"
     ]
    }
   ],
   "source": [
    "df.info()"
   ]
  },
  {
   "cell_type": "code",
   "execution_count": null,
   "metadata": {},
   "outputs": [],
   "source": []
  }
 ],
 "metadata": {
  "kernelspec": {
   "display_name": "data_engineer",
   "language": "python",
   "name": "python3"
  },
  "language_info": {
   "codemirror_mode": {
    "name": "ipython",
    "version": 3
   },
   "file_extension": ".py",
   "mimetype": "text/x-python",
   "name": "python",
   "nbconvert_exporter": "python",
   "pygments_lexer": "ipython3",
   "version": "3.12.1"
  }
 },
 "nbformat": 4,
 "nbformat_minor": 2
}
